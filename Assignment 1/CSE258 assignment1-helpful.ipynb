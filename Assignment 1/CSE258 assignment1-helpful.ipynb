{
 "cells": [
  {
   "cell_type": "markdown",
   "metadata": {},
   "source": [
    "# CSE258 Assignment 1"
   ]
  },
  {
   "cell_type": "markdown",
   "metadata": {},
   "source": [
    "### nHelpful"
   ]
  },
  {
   "cell_type": "code",
   "execution_count": 3,
   "metadata": {
    "collapsed": true
   },
   "outputs": [],
   "source": [
    "import gzip\n",
    "import numpy as np\n",
    "from sklearn.metrics import mean_absolute_error\n",
    "from sklearn.metrics import mean_squared_error\n",
    "from math import sqrt\n",
    "from collections import defaultdict"
   ]
  },
  {
   "cell_type": "code",
   "execution_count": 4,
   "metadata": {
    "collapsed": true
   },
   "outputs": [],
   "source": [
    "def parse(path):\n",
    "    g = gzip.open(path, 'rb')\n",
    "    for l in g:\n",
    "        yield eval(l)\n",
    "\n",
    "def readJson(path):\n",
    "    i = 0\n",
    "    df = {}\n",
    "    for d in parse(path):\n",
    "        df[i] = d\n",
    "        i += 1\n",
    "    return df\n",
    "\n",
    "df = readJson('assignment1/train.json.gz')"
   ]
  },
  {
   "cell_type": "code",
   "execution_count": 47,
   "metadata": {
    "collapsed": false
   },
   "outputs": [],
   "source": [
    "Data_total = [df[x] for x in range(0,len(df))]\n",
    "Data_train = [df[x] for x in range(0,len(df)/2)]\n",
    "Data_valid = [df[x] for x in range(len(df)/2,len(df))]"
   ]
  },
  {
   "cell_type": "code",
   "execution_count": 48,
   "metadata": {
    "collapsed": false
   },
   "outputs": [],
   "source": [
    "df2 = readJson('assignment1/test_Helpful.json.gz')\n",
    "Data_test = [df2[x] for x in range(0,len(df2))]"
   ]
  },
  {
   "cell_type": "code",
   "execution_count": 234,
   "metadata": {
    "collapsed": false
   },
   "outputs": [],
   "source": [
    "# item average rating\n",
    "rateNum = {}\n",
    "rateAvg = {}\n",
    "globalAvg = sum([x['rating'] for x in Data_total]) * 1.0 / len([x['rating'] for x in Data_total])\n",
    "for x in Data_total:\n",
    "    if x['itemID'] in rateAvg:\n",
    "        rateAvg[x['itemID']] = (rateAvg[x['itemID']] * rateNum[x['itemID']] + x['rating']) / (rateNum[x['itemID']] + 1)\n",
    "        rateNum[x['itemID']] += 1\n",
    "    else:\n",
    "        rateNum[x['itemID']] = 1\n",
    "        rateAvg[x['itemID']] = x['rating']"
   ]
  },
  {
   "cell_type": "code",
   "execution_count": 235,
   "metadata": {
    "collapsed": true
   },
   "outputs": [],
   "source": [
    "# number of items user reviewed\n",
    "reviewNum = defaultdict(int)\n",
    "for x in Data_total:\n",
    "    reviewNum[x['reviewerID']] += 1"
   ]
  },
  {
   "cell_type": "code",
   "execution_count": 236,
   "metadata": {
    "collapsed": true
   },
   "outputs": [],
   "source": [
    "# variance of item rating\n",
    "itemRateList = defaultdict(list)\n",
    "itemRateVar = defaultdict(float)\n",
    "for x in Data_total:\n",
    "    itemRateList[x['reviewerID']].append(x['rating'])\n",
    "for x in itemRateList:\n",
    "    itemRateVar[x] = np.std(itemRateList[x])"
   ]
  },
  {
   "cell_type": "code",
   "execution_count": 252,
   "metadata": {
    "collapsed": false
   },
   "outputs": [],
   "source": [
    "# item total outOf\n",
    "itemOutOf = defaultdict(int)\n",
    "for x in Data_total:\n",
    "    itemOutOf[x['itemID']] += x['helpful']['outOf']"
   ]
  },
  {
   "cell_type": "code",
   "execution_count": 237,
   "metadata": {
    "collapsed": true
   },
   "outputs": [],
   "source": [
    "categoryIndex = ['Men', 'Women', 'Boys', 'Girls', 'Baby']\n",
    "\n",
    "def encodeCategory(data, cat):\n",
    "    for category in data['categories']:\n",
    "        for subcategory in category:\n",
    "            if subcategory == categoryIndex[cat]:\n",
    "                return 1\n",
    "    return 0"
   ]
  },
  {
   "cell_type": "code",
   "execution_count": 274,
   "metadata": {
    "collapsed": false
   },
   "outputs": [],
   "source": [
    "# nHelpful feature extraction\n",
    "def featHelpful(data):\n",
    "    votes = data['helpful']['outOf']\n",
    "    \n",
    "    feat = [1]\n",
    "#     feat.append(data['rating'])\n",
    "    feat.append(data['rating'] - globalAvg)\n",
    "    feat.append(len(data['reviewText'].split( )) / data['rating'])\n",
    "    \n",
    "#     feat.append(votes)\n",
    "#     feat.append(votes ** 2)\n",
    "    \n",
    "#     feat.append(itemOutOf[data['itemID']])\n",
    "    feat.append(reviewNum[data['reviewerID']])\n",
    "    feat.append(itemRateVar[data['itemID']])\n",
    "    \n",
    "    if data['itemID'] in rateAvg:\n",
    "        feat.append(abs(data['rating'] - rateAvg[data['itemID']]))\n",
    "    else:\n",
    "        feat.append(0)\n",
    "        \n",
    "    feat.append('but' in data['reviewText'] or 'however' in data['reviewText'])\n",
    "#     feat.append('!' in data['reviewText'])\n",
    "#     feat.append('?' in data['reviewText'])\n",
    "    feat.append(data['reviewText'].count('?') * 1.0 / len(data['reviewText'].split('.')))\n",
    "    feat.append(data['reviewText'].count('!') * 1.0 / len(data['reviewText'].split('.')))\n",
    "    \n",
    "    feat.append(encodeCategory(data, 0))\n",
    "    feat.append(encodeCategory(data, 1))\n",
    "    feat.append(encodeCategory(data, 2))\n",
    "    feat.append(encodeCategory(data, 3))\n",
    "    feat.append(encodeCategory(data, 4))\n",
    "\n",
    "    return feat"
   ]
  },
  {
   "cell_type": "code",
   "execution_count": 281,
   "metadata": {
    "collapsed": false
   },
   "outputs": [
    {
     "name": "stdout",
     "output_type": "stream",
     "text": [
      "0.17628 [  7.13156741e-01   1.46857277e-02   2.25960876e-04   6.51130079e-05\n",
      "   2.77555756e-16  -5.26437487e-02  -6.46820087e-03  -4.70341397e-02\n",
      "  -3.56395095e-03   1.89957141e-01   2.48811175e-01   2.89570676e-01\n",
      "   1.96369312e-01   2.46889626e-01]\n"
     ]
    }
   ],
   "source": [
    "x1_train = [featHelpful(x) for x in Data_train if x['helpful']['outOf'] > 15]\n",
    "y1 = [x['helpful']['nHelpful'] * 1.0 / x['helpful']['outOf'] for x in Data_train if x['helpful']['outOf'] > 15]\n",
    "result1 = np.linalg.lstsq(x1_train, y1)\n",
    "theta1 = result1[0]\n",
    "\n",
    "y_valid = [x['helpful']['nHelpful'] for x in Data_valid]\n",
    "pred_valid = []\n",
    "for x in Data_valid:\n",
    "    x_valid = featHelpful(x)\n",
    "    pred_valid.append(np.round(min(np.dot(np.array(x_valid), theta1),1.0) * x['helpful']['outOf']))\n",
    "print mean_absolute_error(pred_valid, y_valid), theta1"
   ]
  },
  {
   "cell_type": "code",
   "execution_count": 279,
   "metadata": {
    "collapsed": false
   },
   "outputs": [],
   "source": [
    "# # use separate model for outOf > 100 and < 100\n",
    "# x1_train = [featHelpful(x) for x in Data_train if x['helpful']['outOf'] > 39 and x['helpful']['outOf'] < 100]\n",
    "# y1 = [x['helpful']['nHelpful'] * 1.0 / x['helpful']['outOf'] for x in Data_train if x['helpful']['outOf'] > 39 and x['helpful']['outOf'] < 100]\n",
    "# result1 = np.linalg.lstsq(x1_train, y1)\n",
    "# theta1 = result1[0]\n",
    "\n",
    "# x2_train = [featHelpful(x) for x in Data_train if x['helpful']['outOf'] >= 100]\n",
    "# y2 = [x['helpful']['nHelpful'] * 1.0 / x['helpful']['outOf'] for x in Data_train if x['helpful']['outOf'] >= 100]\n",
    "# result2 = np.linalg.lstsq(x2_train, y2)\n",
    "# theta2 = result2[0]\n",
    "\n",
    "# x3_train = [featHelpful(x) for x in Data_train if x['helpful']['outOf'] <= 39 and x['helpful']['outOf'] > 0]\n",
    "# y3 = [x['helpful']['nHelpful'] * 1.0 / x['helpful']['outOf'] for x in Data_train if x['helpful']['outOf'] <= 39 and x['helpful']['outOf'] > 0]\n",
    "# result3 = np.linalg.lstsq(x3_train, y3)\n",
    "# theta3 = result3[0]\n",
    "\n",
    "# y_valid = [x['helpful']['nHelpful'] for x in Data_valid]\n",
    "# pred_valid = []\n",
    "# for x in Data_valid:\n",
    "#     x_valid = featHelpful(x)\n",
    "#     if x['helpful']['outOf'] > 39 and x['helpful']['outOf'] < 100:\n",
    "#         theta = theta1\n",
    "#     elif x['helpful']['outOf'] >= 100:\n",
    "#         theta = theta2\n",
    "#     else:\n",
    "#         theta = theta3\n",
    "#     pred_valid.append(np.round(np.dot(np.array(x_valid), theta) * x['helpful']['outOf']))\n",
    "# print mean_absolute_error(pred_valid, y_valid)"
   ]
  },
  {
   "cell_type": "code",
   "execution_count": 280,
   "metadata": {
    "collapsed": false
   },
   "outputs": [],
   "source": [
    "x1_test = [featHelpful(x) for x in Data_test]\n",
    "pred_rate1 = np.dot(np.array(x1_test), theta1)\n",
    "\n",
    "index = 0\n",
    "predictions = open(\"assignment1/predictions_Helpful.txt\", 'w')\n",
    "for l in open(\"assignment1/pairs_Helpful.txt\"):\n",
    "    if l.startswith(\"userID\"):\n",
    "        #header\n",
    "        predictions.write(l)\n",
    "        continue\n",
    "    u,i,outOf = l.strip().split('-')\n",
    "    outOf = int(outOf)\n",
    "    predictions.write(u + '-' + i + '-' + str(outOf) + ',' + str(np.round(outOf * min(pred_rate1[index],1.0))) + '\\n')\n",
    "    index += 1\n",
    "\n",
    "predictions.close()"
   ]
  },
  {
   "cell_type": "code",
   "execution_count": null,
   "metadata": {
    "collapsed": true
   },
   "outputs": [],
   "source": []
  }
 ],
 "metadata": {
  "anaconda-cloud": {},
  "kernelspec": {
   "display_name": "Python [default]",
   "language": "python",
   "name": "python2"
  },
  "language_info": {
   "codemirror_mode": {
    "name": "ipython",
    "version": 2
   },
   "file_extension": ".py",
   "mimetype": "text/x-python",
   "name": "python",
   "nbconvert_exporter": "python",
   "pygments_lexer": "ipython2",
   "version": "2.7.12"
  }
 },
 "nbformat": 4,
 "nbformat_minor": 1
}
