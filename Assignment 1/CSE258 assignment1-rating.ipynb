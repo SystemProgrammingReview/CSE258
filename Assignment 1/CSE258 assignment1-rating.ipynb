{
 "cells": [
  {
   "cell_type": "markdown",
   "metadata": {},
   "source": [
    "# CSE258 Assignment 1"
   ]
  },
  {
   "cell_type": "markdown",
   "metadata": {},
   "source": [
    "### Rating"
   ]
  },
  {
   "cell_type": "code",
   "execution_count": 1,
   "metadata": {
    "collapsed": true
   },
   "outputs": [],
   "source": [
    "import gzip\n",
    "import numpy as np\n",
    "from sklearn.metrics import mean_absolute_error\n",
    "from sklearn.metrics import mean_squared_error\n",
    "from math import sqrt\n",
    "from collections import defaultdict"
   ]
  },
  {
   "cell_type": "code",
   "execution_count": 2,
   "metadata": {
    "collapsed": true
   },
   "outputs": [],
   "source": [
    "def parse(path):\n",
    "    g = gzip.open(path, 'rb')\n",
    "    for l in g:\n",
    "        yield eval(l)\n",
    "\n",
    "def readJson(path):\n",
    "    i = 0\n",
    "    df = {}\n",
    "    for d in parse(path):\n",
    "        df[i] = d\n",
    "        i += 1\n",
    "    return df\n",
    "\n",
    "df = readJson('assignment1/train.json.gz')"
   ]
  },
  {
   "cell_type": "code",
   "execution_count": 3,
   "metadata": {
    "collapsed": true
   },
   "outputs": [],
   "source": [
    "Data_total = [df[x] for x in range(0,len(df))]\n",
    "Data_train = [df[x] for x in range(0,len(df)/2)]\n",
    "Data_valid = [df[x] for x in range(len(df)/2,len(df))]"
   ]
  },
  {
   "cell_type": "code",
   "execution_count": 4,
   "metadata": {
    "collapsed": false
   },
   "outputs": [],
   "source": [
    "df2 = readJson('assignment1/test_Helpful.json.gz')\n",
    "Data_test = [df2[x] for x in range(0,len(df2))]"
   ]
  },
  {
   "cell_type": "markdown",
   "metadata": {
    "collapsed": true
   },
   "source": [
    "### Rating"
   ]
  },
  {
   "cell_type": "code",
   "execution_count": 5,
   "metadata": {
    "collapsed": false
   },
   "outputs": [],
   "source": [
    "# allRatings = []\n",
    "# userRatings = defaultdict(list)\n",
    "# itemRatings = defaultdict(list)\n",
    "# for l in Data_total:\n",
    "#     user,item = l['reviewerID'],l['itemID']\n",
    "#     allRatings.append(l['rating'])\n",
    "#     userRatings[user].append(l['rating'])\n",
    "#     itemRatings[item].append(l['rating'])\n",
    "\n",
    "# globalAverage = sum(allRatings) / len(allRatings)\n",
    "# userAverage = {}\n",
    "# itemAverage = {}\n",
    "# for u in userRatings:\n",
    "#     userAverage[u] = sum(userRatings[u]) / len(userRatings[u])\n",
    "# for i in itemRatings:\n",
    "#     itemAverage[i] = sum(itemRatings[i]) / len(itemRatings[i])\n",
    "\n",
    "# RatingPred_valid = []\n",
    "# for l in Data_valid:\n",
    "#     u,i = l['reviewerID'], l['itemID']\n",
    "#     if u in userAverage and i in itemAverage:\n",
    "#         RatingPred_valid.append((globalAverage + userAverage[u] + itemAverage[i]) / 3)\n",
    "#     elif u in userAverage:\n",
    "#         RatingPred_valid.append((globalAverage + userAverage[u]) / 2)\n",
    "#     elif i in itemAverage:\n",
    "#         RatingPred_valid.append((globalAverage + itemAverage[i]) / 2)\n",
    "#     else:\n",
    "#         RatingPred_valid.append(globalAverage)\n",
    "\n",
    "# Rating_valid = [x['rating'] for x in Data_valid]\n",
    "# MSE = mean_squared_error(RatingPred_valid, Rating_valid)\n",
    "# MSE\n",
    "\n",
    "# predictions = open(\"assignment1/predictions_Rating.txt\", 'w')\n",
    "# for l in open(\"assignment1/pairs_Rating.txt\"):\n",
    "#     if l.startswith(\"userID\"):\n",
    "#         #header\n",
    "#         predictions.write(l)\n",
    "#         continue\n",
    "#     u,i = l.strip().split('-')\n",
    "#     if u in userAverage and i in itemAverage:\n",
    "#         predictions.write(u + '-' + i + ',' + str((userAverage[u] + itemAverage[i]) / 2) + '\\n')\n",
    "#     elif u in userAverage:\n",
    "#         predictions.write(u + '-' + i + ',' + str(userAverage[u]) + '\\n')\n",
    "#     elif i in itemAverage:\n",
    "#         predictions.write(u + '-' + i + ',' + str(itemAverage[i]) + '\\n')\n",
    "#     else:\n",
    "#         predictions.write(u + '-' + i + ',' + str(globalAverage) + '\\n')\n",
    "\n",
    "# predictions.close()"
   ]
  },
  {
   "cell_type": "code",
   "execution_count": 35,
   "metadata": {
    "collapsed": true
   },
   "outputs": [],
   "source": [
    "rating_valid = [x['rating'] for x in Data_valid]\n",
    "Data_train = Data_total\n",
    "rating_train = [x['rating'] for x in Data_train]"
   ]
  },
  {
   "cell_type": "code",
   "execution_count": 95,
   "metadata": {
    "collapsed": true
   },
   "outputs": [],
   "source": [
    "def calLoss(a, beta_u, beta_i, lmd):\n",
    "    pred_train = []\n",
    "    for x in Data_train:\n",
    "        r = a\n",
    "        if (x['reviewerID'] in I_u):\n",
    "            r += 1.3 * beta_u[x['reviewerID']]\n",
    "        if (x['itemID'] in U_i):\n",
    "            r += 0.87 * beta_i[x['itemID']]\n",
    "        pred_train.append(r)\n",
    "    MSE = mean_squared_error(pred_train, rating_train) + lmd * (sum([beta_u[x] ** 2 for x in beta_u]) / len(beta_u) + sum([beta_i[x] ** 2 for x in beta_i]) / len(beta_i))\n",
    "    return MSE"
   ]
  },
  {
   "cell_type": "code",
   "execution_count": 96,
   "metadata": {
    "collapsed": true
   },
   "outputs": [],
   "source": [
    "I_u = defaultdict(int) # number of items each user bought\n",
    "U_i = defaultdict(int) # number of buyers for each item\n",
    "for x in Data_train:\n",
    "    I_u[x['reviewerID']] += 1\n",
    "    U_i[x['itemID']] += 1\n",
    "\n",
    "def regression (lmd):        \n",
    "#     initialize\n",
    "    a = 3\n",
    "    beta_u = {}\n",
    "    for x in I_u:\n",
    "        beta_u[x] = np.random.random()\n",
    "    beta_i = {}\n",
    "    for x in U_i:\n",
    "        beta_i[x] = np.random.random()\n",
    "\n",
    "    count = 0\n",
    "    MSE_list = []\n",
    "    a_list = []\n",
    "    beta_u_list = []\n",
    "    beta_i_list = []\n",
    "    while count < 5:\n",
    "        a = sum([x['rating'] - 1.13 * beta_u[x['reviewerID']] - 0.87 * beta_i[x['itemID']] for x in Data_train]) / len(Data_train)\n",
    "        a_list.append(a)\n",
    "        MSE = calLoss(a,beta_u,beta_i,lmd)\n",
    "        MSE_list.append(MSE)\n",
    "        if len(MSE_list) > 1:\n",
    "            if MSE >= MSE_list[-2]:\n",
    "                count += 1\n",
    "            else:\n",
    "                count = 0\n",
    "        \n",
    "        for x in I_u:\n",
    "            beta_u[x] = 0.0\n",
    "        for x in Data_train: \n",
    "            beta_u[x['reviewerID']] += (x['rating'] - a - 0.87 * beta_i[x['itemID']]) / (lmd + I_u[x['reviewerID']])\n",
    "        beta_u_list.append(beta_u)\n",
    "        MSE = calLoss(a,beta_u,beta_i,lmd)\n",
    "        MSE_list.append(MSE)\n",
    "        if len(MSE_list) > 1:\n",
    "            if MSE >= MSE_list[-2]:\n",
    "                count += 1\n",
    "            else:\n",
    "                count = 0\n",
    "                \n",
    "        for x in U_i:\n",
    "            beta_i[x] = 0.0\n",
    "        for x in Data_train:\n",
    "            beta_i[x['itemID']] += (x['rating'] - a - 1.13 * beta_u[x['reviewerID']]) / (lmd + U_i[x['itemID']])\n",
    "        beta_i_list.append(beta_i)\n",
    "        MSE = calLoss(a,beta_u,beta_i,lmd)\n",
    "        MSE_list.append(MSE)\n",
    "        if len(MSE_list) > 1:\n",
    "            if MSE >= MSE_list[-2]:\n",
    "                count += 1\n",
    "            else:\n",
    "                count = 0\n",
    "#         pred_valid = []\n",
    "#         for x in Data_valid:\n",
    "#             r = a\n",
    "#             if (x['reviewerID'] in I_u):\n",
    "#                 r += beta_u[x['reviewerID']]\n",
    "#             if (x['itemID'] in U_i):\n",
    "#                 r += beta_i[x['itemID']]\n",
    "#             pred_valid.append(r)\n",
    "#         MSE = mean_squared_error(pred_valid, rating_valid)\n",
    "#         MSE_list.append(MSE)\n",
    "#         if len(MSE_list) > 1:\n",
    "#             if MSE >= MSE_list[-2]:\n",
    "#                 count += 1\n",
    "#             else:\n",
    "#                 count = 0\n",
    "                \n",
    "    return MSE_list, a_list, beta_u_list, beta_i_list"
   ]
  },
  {
   "cell_type": "code",
   "execution_count": 97,
   "metadata": {
    "collapsed": false
   },
   "outputs": [],
   "source": [
    "MSE_list, a_list, beta_u_list, beta_i_list = regression(5.6)"
   ]
  },
  {
   "cell_type": "code",
   "execution_count": 98,
   "metadata": {
    "collapsed": false
   },
   "outputs": [
    {
     "data": {
      "text/plain": [
       "[5.1304927419484363,\n",
       " 3.7862391477422723,\n",
       " 2.9599885150011911,\n",
       " 2.8861791142505537,\n",
       " 2.5894701591447418,\n",
       " 2.33117019970364,\n",
       " 2.2846417367593994,\n",
       " 2.2024043733382426,\n",
       " 1.9807982021525592,\n",
       " 1.9550322019467181,\n",
       " 1.9275355237193512,\n",
       " 1.7888842385877091,\n",
       " 1.7758228501777529,\n",
       " 1.766303895052777,\n",
       " 1.6911371446874366,\n",
       " 1.6849055225545773,\n",
       " 1.6815059612484509,\n",
       " 1.6440632204558545,\n",
       " 1.6412175886931317,\n",
       " 1.6399538384369341,\n",
       " 1.6223328632072742,\n",
       " 1.6210757438533905,\n",
       " 1.6205800435982005,\n",
       " 1.6126220453104478,\n",
       " 1.6120808749607591,\n",
       " 1.611872659731147,\n",
       " 1.6083903115836522,\n",
       " 1.608162136574125,\n",
       " 1.6080674840858451,\n",
       " 1.6065818465693078,\n",
       " 1.6064872658098102,\n",
       " 1.6064406500048594,\n",
       " 1.6058203668727851,\n",
       " 1.6057817156064238,\n",
       " 1.6057570794243525,\n",
       " 1.6055031364536778,\n",
       " 1.6054875302004987,\n",
       " 1.6054737791446119,\n",
       " 1.6053718471413023,\n",
       " 1.6053656104294696,\n",
       " 1.6053576373439076,\n",
       " 1.6053176343751614,\n",
       " 1.6053151641547432,\n",
       " 1.6053104267290428,\n",
       " 1.6052951896904146,\n",
       " 1.6052942188928923,\n",
       " 1.6052913621094511,\n",
       " 1.605285820009706,\n",
       " 1.6052854410969504,\n",
       " 1.6052837037878134,\n",
       " 1.6052818504181086,\n",
       " 1.6052817034220985,\n",
       " 1.6052806421434531,\n",
       " 1.605280131694703,\n",
       " 1.6052800749777316,\n",
       " 1.6052794252908806,\n",
       " 1.605279366051277,\n",
       " 1.6052793442739401,\n",
       " 1.6052789462618657,\n",
       " 1.6052790132525905,\n",
       " 1.6052790049274899,\n",
       " 1.6052787611130808,\n",
       " 1.6052788446273922,\n",
       " 1.6052788414574763,\n",
       " 1.6052786921775799,\n",
       " 1.6052787610570585,\n",
       " 1.6052787598544156,\n",
       " 1.6052786685227642,\n",
       " 1.6052787182524324,\n",
       " 1.6052787177976597,\n",
       " 1.6052786619670996,\n",
       " 1.6052786957108904,\n",
       " 1.6052786955394387,\n",
       " 1.6052786614407861,\n",
       " 1.605278683577454,\n",
       " 1.6052786835129949,\n",
       " 1.6052786627055848,\n",
       " 1.6052786769388332,\n",
       " 1.605278676914661,\n",
       " 1.6052786642286474,\n",
       " 1.605278673264118,\n",
       " 1.6052786732550746,\n",
       " 1.6052786655269364,\n",
       " 1.6052786712138172,\n",
       " 1.6052786712104412,\n",
       " 1.6052786665062566,\n",
       " 1.6052786700639077,\n",
       " 1.60527867006265,\n",
       " 1.605278667201278,\n",
       " 1.6052786694169077,\n",
       " 1.6052786694164403,\n",
       " 1.6052786676772044,\n",
       " 1.6052786690522345,\n",
       " 1.6052786690520611,\n",
       " 1.6052786679955817,\n",
       " 1.6052786688465219,\n",
       " 1.6052786688464578,\n",
       " 1.6052786682051037,\n",
       " 1.605278668730461,\n",
       " 1.6052786687304375,\n",
       " 1.6052786683413265,\n",
       " 1.605278668665024,\n",
       " 1.6052786686650151,\n",
       " 1.6052786684290685,\n",
       " 1.6052786686281515,\n",
       " 1.6052786686281477,\n",
       " 1.6052786684851468,\n",
       " 1.6052786686073932,\n",
       " 1.6052786686073919,\n",
       " 1.6052786685207718,\n",
       " 1.6052786685957363,\n",
       " 1.6052786685957359,\n",
       " 1.6052786685432792,\n",
       " 1.6052786685891836,\n",
       " 1.6052786685891831,\n",
       " 1.6052786685574389,\n",
       " 1.6052786685855174,\n",
       " 1.6052786685855174,\n",
       " 1.605278668566315,\n",
       " 1.6052786685834697,\n",
       " 1.6052786685834697,\n",
       " 1.6052786685718559,\n",
       " 1.6052786685823306,\n",
       " 1.6052786685823306,\n",
       " 1.6052786685753078,\n",
       " 1.6052786685816935,\n",
       " 1.6052786685816938,\n",
       " 1.6052786685774474,\n",
       " 1.6052786685813341,\n",
       " 1.6052786685813345,\n",
       " 1.6052786685787752,\n",
       " 1.6052786685811467,\n",
       " 1.6052786685811467,\n",
       " 1.6052786685796008,\n",
       " 1.6052786685810392,\n",
       " 1.6052786685810396,\n",
       " 1.6052786685801008,\n",
       " 1.6052786685809755,\n",
       " 1.6052786685809755,\n",
       " 1.605278668580413,\n",
       " 1.605278668580945,\n",
       " 1.605278668580945,\n",
       " 1.6052786685806038,\n",
       " 1.6052786685809302,\n",
       " 1.6052786685809304,\n",
       " 1.6052786685807203,\n",
       " 1.6052786685809146,\n",
       " 1.6052786685809142,\n",
       " 1.6052786685807936,\n",
       " 1.6052786685809126,\n",
       " 1.6052786685809122,\n",
       " 1.6052786685808398,\n",
       " 1.6052786685809128,\n",
       " 1.6052786685809131,\n",
       " 1.6052786685808669,\n",
       " 1.6052786685809108,\n",
       " 1.6052786685809108,\n",
       " 1.6052786685808833,\n",
       " 1.6052786685809104,\n",
       " 1.6052786685809104,\n",
       " 1.605278668580894,\n",
       " 1.6052786685809091,\n",
       " 1.6052786685809086,\n",
       " 1.6052786685808997,\n",
       " 1.6052786685809082,\n",
       " 1.6052786685809082,\n",
       " 1.6052786685809066,\n",
       " 1.6052786685809111,\n",
       " 1.6052786685809111,\n",
       " 1.6052786685809095,\n",
       " 1.6052786685809139,\n",
       " 1.6052786685809139,\n",
       " 1.6052786685809068,\n",
       " 1.6052786685809082,\n",
       " 1.605278668580908,\n",
       " 1.6052786685809068,\n",
       " 1.6052786685809126,\n",
       " 1.6052786685809126,\n",
       " 1.6052786685809113,\n",
       " 1.6052786685809093,\n",
       " 1.6052786685809093,\n",
       " 1.6052786685809077,\n",
       " 1.6052786685809082,\n",
       " 1.6052786685809082,\n",
       " 1.6052786685809077,\n",
       " 1.6052786685809086,\n",
       " 1.6052786685809082,\n",
       " 1.6052786685809077,\n",
       " 1.6052786685809084,\n",
       " 1.6052786685809084,\n",
       " 1.6052786685809086,\n",
       " 1.6052786685809077,\n",
       " 1.6052786685809082,\n",
       " 1.6052786685809077,\n",
       " 1.6052786685809077,\n",
       " 1.605278668580908,\n",
       " 1.605278668580908,\n",
       " 1.6052786685809082,\n",
       " 1.6052786685809086,\n",
       " 1.605278668580908,\n",
       " 1.6052786685809091,\n",
       " 1.6052786685809091,\n",
       " 1.6052786685809095,\n",
       " 1.60527866858091,\n",
       " 1.60527866858091,\n",
       " 1.60527866858091,\n",
       " 1.6052786685809095,\n",
       " 1.6052786685809095,\n",
       " 1.6052786685809095,\n",
       " 1.6052786685809097,\n",
       " 1.6052786685809097,\n",
       " 1.60527866858091,\n",
       " 1.60527866858091]"
      ]
     },
     "execution_count": 98,
     "metadata": {},
     "output_type": "execute_result"
    }
   ],
   "source": [
    "MSE_list"
   ]
  },
  {
   "cell_type": "code",
   "execution_count": 104,
   "metadata": {
    "collapsed": false
   },
   "outputs": [
    {
     "data": {
      "text/plain": [
       "213"
      ]
     },
     "execution_count": 104,
     "metadata": {},
     "output_type": "execute_result"
    }
   ],
   "source": [
    "len(MSE_list)"
   ]
  },
  {
   "cell_type": "code",
   "execution_count": 103,
   "metadata": {
    "collapsed": true
   },
   "outputs": [],
   "source": [
    "predictions = open(\"assignment1/predictions_Rating.txt\", 'w')\n",
    "for l in open(\"assignment1/pairs_Rating.txt\"):\n",
    "    if l.startswith(\"userID\"):\n",
    "        #header\n",
    "        predictions.write(l)\n",
    "        continue\n",
    "    u,i = l.strip().split('-')\n",
    "    r = a_list[-6]\n",
    "    if u in beta_u_list[-6]:\n",
    "        r += 1.13 * beta_u_list[-6][u]\n",
    "    if i in beta_i_list[-6]:\n",
    "        r += 0.87 * beta_i_list[-6][i]\n",
    "    if r > 5.:\n",
    "        r = 5.\n",
    "    if r < 1:\n",
    "        r = 1.0\n",
    "    predictions.write(u + '-' + i + ',' + str(r) + '\\n')\n",
    "\n",
    "predictions.close()"
   ]
  },
  {
   "cell_type": "code",
   "execution_count": 25,
   "metadata": {
    "collapsed": false
   },
   "outputs": [
    {
     "data": {
      "text/plain": [
       "0"
      ]
     },
     "execution_count": 25,
     "metadata": {},
     "output_type": "execute_result"
    }
   ],
   "source": [
    "len([x for x in Data_total if x['rating'] == 0.0])"
   ]
  },
  {
   "cell_type": "code",
   "execution_count": null,
   "metadata": {
    "collapsed": true
   },
   "outputs": [],
   "source": []
  }
 ],
 "metadata": {
  "anaconda-cloud": {},
  "kernelspec": {
   "display_name": "Python [default]",
   "language": "python",
   "name": "python2"
  },
  "language_info": {
   "codemirror_mode": {
    "name": "ipython",
    "version": 2
   },
   "file_extension": ".py",
   "mimetype": "text/x-python",
   "name": "python",
   "nbconvert_exporter": "python",
   "pygments_lexer": "ipython2",
   "version": "2.7.12"
  }
 },
 "nbformat": 4,
 "nbformat_minor": 1
}
