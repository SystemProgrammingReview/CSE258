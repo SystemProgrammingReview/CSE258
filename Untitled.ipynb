{
 "cells": [
  {
   "cell_type": "code",
   "execution_count": 4,
   "metadata": {
    "collapsed": false
   },
   "outputs": [],
   "source": [
    "import pandas as pd\n",
    "from sklearn.decomposition import TruncatedSVD\n",
    "\n",
    "pd.options.display.max_columns = 10 \n",
    "pd.options.display.width = 134\n",
    "pd.options.display.max_rows = 20\n",
    "\n",
    "import warnings\n",
    "warnings.filterwarnings(\"ignore\", category=DeprecationWarning)\n",
    "\n",
    "train = pd.read_csv('train.txt')\n",
    "test = pd.read_csv('validation.txt')\n",
    "matrix = pd.concat([train,test]).pivot('user','movie','rating')\n",
    "movie_means = matrix.mean()\n",
    "user_means = matrix.mean(axis=1)\n",
    "mzm = matrix-movie_means\n",
    "# mz = mzm.fillna(0)\n",
    "# mask = -mzm.isnull()"
   ]
  },
  {
   "cell_type": "code",
   "execution_count": 5,
   "metadata": {
    "collapsed": false
   },
   "outputs": [],
   "source": [
    "mz = mzm.fillna(0)\n",
    "mask = -mzm.isnull()"
   ]
  },
  {
   "cell_type": "code",
   "execution_count": null,
   "metadata": {
    "collapsed": false
   },
   "outputs": [
    {
     "name": "stdout",
     "output_type": "stream",
     "text": [
      "here here2"
     ]
    }
   ],
   "source": [
    "iteration = 0\n",
    "mse_last = 999\n",
    "while iteration<10:\n",
    "    iteration += 1\n",
    "    svd = TruncatedSVD(n_components=15,random_state=42)\n",
    "    svd.fit(mz)\n",
    "    print 'here',\n",
    "    mzsvd = pd.DataFrame(svd.inverse_transform(svd.transform(mz)),columns=mz.columns,index=mz.index)\n",
    "    print 'here2',\n",
    "#     mse = mean_squared_error(mzsvd[mask].fillna(0),mzm[mask].fillna(0))\n",
    "#     print('%i %.5f %.5f'%(iteration,mse,mse_last-mse))\n",
    "    mzsvd[mask] = mzm[mask]\n",
    "\n",
    "    mz = mzsvd\n",
    "#     if mse_last-mse<0.00001: break\n",
    "#     mse_last = mse\n",
    "\n",
    "# m = mz+movie_means\n",
    "# m = m.clip(lower=1,upper=5)\n",
    "\n",
    "# test['rating'] = test.apply(lambda x:m[m.index==x.user][x.movie].values[0],axis=1)\n",
    "\n",
    "# # There are some movies who did not have enough info to make prediction, so just used average value for user\n",
    "# missing = np.where(test.rating.isnull())[0]\n",
    "# test.ix[missing,'rating'] = user_means[test.loc[missing].user].values\n",
    "\n",
    "# test.to_csv('submission.csv',index=False,columns=['ID','rating'])"
   ]
  },
  {
   "cell_type": "code",
   "execution_count": null,
   "metadata": {
    "collapsed": true
   },
   "outputs": [],
   "source": [
    "for line in open(\"assignment1/pairs_Rating.txt\"):\n",
    "    if line.startswith(\"userID\"):\n",
    "        continue\n",
    "    user,item = line.strip().split('-')\n",
    "    if user not in userIndex:\n",
    "        userIndex[user] = i\n",
    "        i += 1\n",
    "    if item not in itemIndex:\n",
    "        itemIndex[item] = j\n",
    "    lines.append(str(userIndex[user])+','+ str(itemIndex[item]))\n",
    "\n"
   ]
  }
 ],
 "metadata": {
  "kernelspec": {
   "display_name": "Python [default]",
   "language": "python",
   "name": "python2"
  },
  "language_info": {
   "codemirror_mode": {
    "name": "ipython",
    "version": 2
   },
   "file_extension": ".py",
   "mimetype": "text/x-python",
   "name": "python",
   "nbconvert_exporter": "python",
   "pygments_lexer": "ipython2",
   "version": "2.7.12"
  }
 },
 "nbformat": 4,
 "nbformat_minor": 2
}
