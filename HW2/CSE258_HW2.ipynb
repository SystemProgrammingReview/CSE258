{
 "cells": [
  {
   "cell_type": "markdown",
   "metadata": {},
   "source": [
    "# CSE258 HW2"
   ]
  },
  {
   "cell_type": "code",
   "execution_count": 1,
   "metadata": {
    "collapsed": true
   },
   "outputs": [],
   "source": [
    "import urllib\n",
    "import scipy.optimize\n",
    "import random\n",
    "import numpy\n",
    "from math import exp\n",
    "from math import log\n",
    "import matplotlib.pyplot as plt\n",
    "from sklearn.decomposition import PCA\n",
    "from sklearn.metrics import mean_squared_error"
   ]
  },
  {
   "cell_type": "markdown",
   "metadata": {},
   "source": [
    "### Task 1\n",
    "After reshuffling the data, the train/validate/test performance are shown below:\n",
    "\n",
    "lambda = 0;\ttrain=0.748774509804; validate=0.757501530925; test=0.738518064911\n",
    "\n",
    "lambda = 0.01;\ttrain=0.748774509804; validate=0.756889161053; test=0.738518064911\n",
    "\n",
    "lambda = 1.0;\ttrain=0.729166666667; validate=0.753827311696; test=0.72933251684\n",
    "\n",
    "lambda = 100.0;\ttrain=0.66237745098; validate=0.681567666871; test=0.680342927128\n",
    "\n",
    "We see the accuracy for train and validate part increase a little while the test accuracy decreases a little bit"
   ]
  },
  {
   "cell_type": "code",
   "execution_count": 2,
   "metadata": {
    "collapsed": false
   },
   "outputs": [
    {
     "name": "stdout",
     "output_type": "stream",
     "text": [
      "Reading data...\n",
      "done\n",
      "lambda = 0;\ttrain=0.748774509804; validate=0.757501530925; test=0.738518064911\n",
      "lambda = 0.01;\ttrain=0.748774509804; validate=0.756889161053; test=0.738518064911\n",
      "lambda = 1.0;\ttrain=0.729166666667; validate=0.753827311696; test=0.72933251684\n",
      "lambda = 100.0;\ttrain=0.66237745098; validate=0.681567666871; test=0.680342927128\n"
     ]
    }
   ],
   "source": [
    "random.seed(0)\n",
    "\n",
    "def parseData(fname):\n",
    "    for l in urllib.urlopen(fname):\n",
    "        yield eval(l)\n",
    "\n",
    "print \"Reading data...\"\n",
    "dataFile = open(\"winequality-white.csv\")\n",
    "header = dataFile.readline()\n",
    "fields = [\"constant\"] + header.strip().replace('\"','').split(';')\n",
    "featureNames = fields[:-1]\n",
    "labelName = fields[-1]\n",
    "lines = [[1.0] + [float(x) for x in l.split(';')] for l in dataFile]\n",
    "random.shuffle(lines)\n",
    "X = [l[:-1] for l in lines]\n",
    "y = [l[-1] > 5 for l in lines]\n",
    "print \"done\"\n",
    "\n",
    "def inner(x,y):\n",
    "    return sum([x[i]*y[i] for i in range(len(x))])\n",
    "\n",
    "def sigmoid(x):\n",
    "    return 1.0 / (1 + exp(-x))\n",
    "\n",
    "##################################################\n",
    "# Logistic regression by gradient ascent         #\n",
    "##################################################\n",
    "\n",
    "# NEGATIVE Log-likelihood\n",
    "def f(theta, X, y, lam):\n",
    "    loglikelihood = 0\n",
    "    for i in range(len(X)):\n",
    "        logit = inner(X[i], theta)\n",
    "        loglikelihood -= log(1 + exp(-logit))\n",
    "        if not y[i]:\n",
    "            loglikelihood -= logit\n",
    "    for k in range(len(theta)):\n",
    "        loglikelihood -= lam * theta[k]*theta[k]\n",
    "    # for debugging\n",
    "    # print \"ll =\", loglikelihood\n",
    "    return -loglikelihood\n",
    "\n",
    "# NEGATIVE Derivative of log-likelihood\n",
    "def fprime(theta, X, y, lam):\n",
    "    dl = [0]*len(theta)\n",
    "    for i in range(len(X)):\n",
    "        logit = inner(X[i], theta)\n",
    "        for k in range(len(theta)):\n",
    "            dl[k] += X[i][k] * (1 - sigmoid(logit))\n",
    "            if not y[i]:\n",
    "                dl[k] -= X[i][k]\n",
    "    for k in range(len(theta)):\n",
    "        dl[k] -= lam*2*theta[k]\n",
    "    return numpy.array([-x for x in dl])\n",
    "\n",
    "X_train = X[:int(len(X)/3)]\n",
    "y_train = y[:int(len(y)/3)]\n",
    "X_validate = X[int(len(X)/3):int(2*len(X)/3)]\n",
    "y_validate = y[int(len(y)/3):int(2*len(y)/3)]\n",
    "X_test = X[int(2*len(X)/3):]\n",
    "y_test = y[int(2*len(X)/3):]\n",
    "\n",
    "##################################################\n",
    "# Train                                          #\n",
    "##################################################\n",
    "\n",
    "def train(lam):\n",
    "    theta,_,_ = scipy.optimize.fmin_l_bfgs_b(f, [0]*len(X[0]), fprime, pgtol = 10, args = (X_train, y_train, lam))\n",
    "    return theta\n",
    "\n",
    "##################################################\n",
    "# Predict                                        #\n",
    "##################################################\n",
    "\n",
    "def performance(theta):\n",
    "    scores_train = [inner(theta,x) for x in X_train]\n",
    "    scores_validate = [inner(theta,x) for x in X_validate]\n",
    "    scores_test = [inner(theta,x) for x in X_test]\n",
    "\n",
    "    predictions_train = [s > 0 for s in scores_train]\n",
    "    predictions_validate = [s > 0 for s in scores_validate]\n",
    "    predictions_test = [s > 0 for s in scores_test]\n",
    "\n",
    "    correct_train = [(a==b) for (a,b) in zip(predictions_train,y_train)]\n",
    "    correct_validate = [(a==b) for (a,b) in zip(predictions_validate,y_validate)]\n",
    "    correct_test = [(a==b) for (a,b) in zip(predictions_test,y_test)]\n",
    "  \n",
    "    acc_train = sum(correct_train) * 1.0 / len(correct_train)\n",
    "    acc_validate = sum(correct_validate) * 1.0 / len(correct_validate)\n",
    "    acc_test = sum(correct_test) * 1.0 / len(correct_test)\n",
    "    return acc_train, acc_validate, acc_test\n",
    "\n",
    "##################################################\n",
    "# Validation pipeline                            #\n",
    "##################################################\n",
    "\n",
    "for lam in [0, 0.01, 1.0, 100.0]:\n",
    "    theta = train(lam)\n",
    "    acc_train, acc_validate, acc_test = performance(theta)\n",
    "    print(\"lambda = \" + str(lam) + \";\\ttrain=\" + str(acc_train) + \"; validate=\" + str(acc_validate) + \"; test=\" + str(acc_test))"
   ]
  },
  {
   "cell_type": "markdown",
   "metadata": {
    "collapsed": true
   },
   "source": [
    "### Task 2\n",
    "The number of\n",
    "\n",
    "true positives = 1129;\n",
    "true negatives = 145;\n",
    "false positives = 321;\n",
    "false negatives = 38\n",
    "\n",
    "The Balanced Error Rate is 0.360701663412"
   ]
  },
  {
   "cell_type": "code",
   "execution_count": 3,
   "metadata": {
    "collapsed": false
   },
   "outputs": [
    {
     "name": "stdout",
     "output_type": "stream",
     "text": [
      "Reading data...\n",
      "done\n",
      "lambda = 0.01;\ttrain=0.732230392157; validate=0.721984078383; test=0.780159216167\n"
     ]
    }
   ],
   "source": [
    "random.seed(0)\n",
    "\n",
    "def parseData(fname):\n",
    "    for l in urllib.urlopen(fname):\n",
    "        yield eval(l)\n",
    "\n",
    "print \"Reading data...\"\n",
    "dataFile = open(\"winequality-white.csv\")\n",
    "header = dataFile.readline()\n",
    "fields = [\"constant\"] + header.strip().replace('\"','').split(';')\n",
    "featureNames = fields[:-1]\n",
    "labelName = fields[-1]\n",
    "lines = [[1.0] + [float(x) for x in l.split(';')] for l in dataFile]\n",
    "# random.shuffle(lines)\n",
    "X = [l[:-1] for l in lines]\n",
    "y = [l[-1] > 5 for l in lines]\n",
    "print \"done\"\n",
    "\n",
    "def inner(x,y):\n",
    "    return sum([x[i]*y[i] for i in range(len(x))])\n",
    "\n",
    "def sigmoid(x):\n",
    "    return 1.0 / (1 + exp(-x))\n",
    "\n",
    "##################################################\n",
    "# Logistic regression by gradient ascent         #\n",
    "##################################################\n",
    "\n",
    "# NEGATIVE Log-likelihood\n",
    "def f(theta, X, y, lam):\n",
    "    loglikelihood = 0\n",
    "    for i in range(len(X)):\n",
    "        logit = inner(X[i], theta)\n",
    "        loglikelihood -= log(1 + exp(-logit))\n",
    "        if not y[i]:\n",
    "            loglikelihood -= logit\n",
    "    for k in range(len(theta)):\n",
    "        loglikelihood -= lam * theta[k]*theta[k]\n",
    "    # for debugging\n",
    "    # print \"ll =\", loglikelihood\n",
    "    return -loglikelihood\n",
    "\n",
    "# NEGATIVE Derivative of log-likelihood\n",
    "def fprime(theta, X, y, lam):\n",
    "    dl = [0]*len(theta)\n",
    "    for i in range(len(X)):\n",
    "        logit = inner(X[i], theta)\n",
    "        for k in range(len(theta)):\n",
    "            dl[k] += X[i][k] * (1 - sigmoid(logit))\n",
    "            if not y[i]:\n",
    "                dl[k] -= X[i][k]\n",
    "    for k in range(len(theta)):\n",
    "        dl[k] -= lam*2*theta[k]\n",
    "    return numpy.array([-x for x in dl])\n",
    "\n",
    "X_train = X[:int(len(X)/3)]\n",
    "y_train = y[:int(len(y)/3)]\n",
    "X_validate = X[int(len(X)/3):int(2*len(X)/3)]\n",
    "y_validate = y[int(len(y)/3):int(2*len(y)/3)]\n",
    "X_test = X[int(2*len(X)/3):]\n",
    "y_test = y[int(2*len(X)/3):]\n",
    "\n",
    "##################################################\n",
    "# Train                                          #\n",
    "##################################################\n",
    "\n",
    "def train(lam):\n",
    "    theta,_,_ = scipy.optimize.fmin_l_bfgs_b(f, [0]*len(X[0]), fprime, pgtol = 10, args = (X_train, y_train, lam))\n",
    "    return theta\n",
    "\n",
    "##################################################\n",
    "# Predict                                        #\n",
    "##################################################\n",
    "\n",
    "def performance(theta):\n",
    "    scores_train = [inner(theta,x) for x in X_train]\n",
    "    scores_validate = [inner(theta,x) for x in X_validate]\n",
    "    scores_test = [inner(theta,x) for x in X_test]\n",
    "\n",
    "    predictions_train = [s > 0 for s in scores_train]\n",
    "    predictions_validate = [s > 0 for s in scores_validate]\n",
    "    predictions_test = [s > 0 for s in scores_test]\n",
    "\n",
    "    correct_train = [(a==b) for (a,b) in zip(predictions_train,y_train)]\n",
    "    correct_validate = [(a==b) for (a,b) in zip(predictions_validate,y_validate)]\n",
    "    correct_test = [(a==b) for (a,b) in zip(predictions_test,y_test)]\n",
    "  \n",
    "    acc_train = sum(correct_train) * 1.0 / len(correct_train)\n",
    "    acc_validate = sum(correct_validate) * 1.0 / len(correct_validate)\n",
    "    acc_test = sum(correct_test) * 1.0 / len(correct_test)\n",
    "    return acc_train, acc_validate, acc_test, predictions_test, scores_test\n",
    "\n",
    "##################################################\n",
    "# Validation pipeline                            #\n",
    "##################################################\n",
    "\n",
    "# for lam in [0, 0.01, 1.0, 100.0]:\n",
    "lam = 0.01\n",
    "theta = train(lam)\n",
    "acc_train, acc_validate, acc_test, predictions_test, scores_test = performance(theta)\n",
    "print(\"lambda = \" + str(lam) + \";\\ttrain=\" + str(acc_train) + \"; validate=\" + str(acc_validate) + \"; test=\" + str(acc_test))"
   ]
  },
  {
   "cell_type": "code",
   "execution_count": 5,
   "metadata": {
    "collapsed": false
   },
   "outputs": [
    {
     "name": "stdout",
     "output_type": "stream",
     "text": [
      "true positives = 1129;\n",
      "true negatives = 145;\n",
      "false positives = 321;\n",
      "false negatives = 38\n",
      "Balanced Error Rate: 0.360701663412\n"
     ]
    }
   ],
   "source": [
    "num_TP = sum([(a==1 and b==1) for (a,b) in zip(predictions_test,y_test)])\n",
    "num_TN = sum([(a==0 and b==0) for (a,b) in zip(predictions_test,y_test)])\n",
    "num_FP = sum([(a==1 and b==0) for (a,b) in zip(predictions_test,y_test)])\n",
    "num_FN = sum([(a==0 and b==1) for (a,b) in zip(predictions_test,y_test)])\n",
    "BER = 1.0/2 * ((num_FP * 1.0 / (num_FP + num_TN)) + (num_FN * 1.0 / (num_FN + num_TP)))\n",
    "print(\"true positives = \" + str(num_TP) + \";\\ntrue negatives = \" + str(num_TN)\n",
    "      + \";\\nfalse positives = \" + str(num_FP) + \";\\nfalse negatives = \" + str(num_FN))\n",
    "print(\"Balanced Error Rate: \" + str(BER))"
   ]
  },
  {
   "cell_type": "markdown",
   "metadata": {},
   "source": [
    "### Task 3\n",
    "For top 10 predictions, precision = 1.0; recall = 0.00856898029135\n",
    "\n",
    "For top 500 predictions, precision = 0.956; recall = 0.409597257926\n",
    "\n",
    "For top 1000 predictions, precision = 0.864; recall = 0.740359897172"
   ]
  },
  {
   "cell_type": "code",
   "execution_count": 6,
   "metadata": {
    "collapsed": false
   },
   "outputs": [
    {
     "name": "stdout",
     "output_type": "stream",
     "text": [
      "For top 10 predictions, precision = 1.0; recall = 0.00856898029135\n",
      "For top 500 predictions, precision = 0.956; recall = 0.409597257926\n",
      "For top 1000 predictions, precision = 0.864; recall = 0.740359897172\n"
     ]
    }
   ],
   "source": [
    "confi_ordered = zip(scores_test, y_test)\n",
    "confi_ordered.sort(key = lambda x : x[0], reverse = True)\n",
    "\n",
    "for i in [10, 500, 1000]:\n",
    "    data = confi_ordered[:i]\n",
    "    trues = filter(lambda x : x[1] == True, data)\n",
    "    precision = len(trues) * 1.0 / i\n",
    "    recall = len(trues) * 1.0 / sum(y_test)\n",
    "    print(\"For top \" + str(i) + \" predictions, precision = \" + str(precision) + \"; recall = \" + str(recall))"
   ]
  },
  {
   "cell_type": "markdown",
   "metadata": {},
   "source": [
    "### Task 4"
   ]
  },
  {
   "cell_type": "code",
   "execution_count": 8,
   "metadata": {
    "collapsed": false
   },
   "outputs": [
    {
     "data": {
      "image/png": "[encoded data removed]",
      "text/plain": [
       "<matplotlib.figure.Figure at 0x88d0c88>"
      ]
     },
     "metadata": {},
     "output_type": "display_data"
    }
   ],
   "source": [
    "Precision = numpy.zeros(len(y_test)-1)\n",
    "Recall = numpy.zeros(len(y_test)-1)\n",
    "\n",
    "for i in range(1, len(y_test)):\n",
    "    data = confi_ordered[:i]\n",
    "    trues = filter(lambda x : x[1] == True, data)\n",
    "    precision = len(trues) * 1.0 / i\n",
    "    recall = len(trues) * 1.0 / sum(y_test)\n",
    "    Precision[i-1] = precision\n",
    "    Recall[i-1] = recall\n",
    "plt.plot(Recall, Precision)\n",
    "plt.xlabel(\"recall\")\n",
    "plt.ylabel(\"precision\")\n",
    "plt.ylim([0.7, 1])\n",
    "plt.show()"
   ]
  },
  {
   "cell_type": "markdown",
   "metadata": {},
   "source": [
    "### Task 5\n",
    "The reconstruction error is  3675818.61688"
   ]
  },
  {
   "cell_type": "code",
   "execution_count": 9,
   "metadata": {
    "collapsed": false
   },
   "outputs": [
    {
     "name": "stdout",
     "output_type": "stream",
     "text": [
      "The reconstruction error is  3675818.61688\n"
     ]
    }
   ],
   "source": [
    "X_11d = [x[1:] for x in X_train]\n",
    "get_mean = numpy.mean(X_11d, axis = 0)\n",
    "diff = numpy.array([x - get_mean for x in X_11d])\n",
    "recon_error = numpy.sum(diff*diff)\n",
    "print \"The reconstruction error is \", recon_error"
   ]
  },
  {
   "cell_type": "markdown",
   "metadata": {},
   "source": [
    "### Task 6\n"
   ]
  },
  {
   "cell_type": "code",
   "execution_count": 10,
   "metadata": {
    "collapsed": false
   },
   "outputs": [
    {
     "name": "stdout",
     "output_type": "stream",
     "text": [
      "[[  3.23636346e-04  -1.42201752e-04  -3.17030713e-04  -5.36390435e-02\n",
      "   -9.30284526e-05  -2.54030965e-01  -9.65655009e-01  -3.19990241e-05\n",
      "    2.95831396e-04  -3.84043646e-04   1.00526693e-02]\n",
      " [ -7.57985623e-03  -1.66366340e-03   1.04742899e-03   5.21677266e-02\n",
      "    4.49425600e-05   9.65020304e-01  -2.56793964e-01   7.90089050e-06\n",
      "    5.24900596e-04  -1.09699394e-03  -2.89827657e-03]\n",
      " [  1.82124420e-02   2.54680710e-03   3.31838657e-03   9.93221259e-01\n",
      "   -1.51888372e-04  -6.42297821e-02  -3.91682592e-02   4.30929482e-04\n",
      "   -6.93199060e-03  -2.85216045e-03  -8.62920933e-02]\n",
      " [ -1.56811999e-01  -3.28220652e-03  -1.66866136e-02  -8.28549640e-02\n",
      "    6.91822288e-03  -1.13029682e-03  -5.39110108e-03   9.49080503e-04\n",
      "   -2.68027305e-03  -1.30498102e-03  -9.83955205e-01]\n",
      " [ -9.81360642e-01   1.45890108e-02  -5.92643662e-02   3.17546064e-02\n",
      "   -5.07483182e-04  -8.43759364e-03   1.77578042e-03  -6.03725221e-04\n",
      "    9.05011239e-02   9.35630845e-03   1.54417839e-01]\n",
      " [ -7.76578401e-02   2.37665885e-01  -2.23406619e-02  -5.04113878e-03\n",
      "    1.43564098e-02   2.14210997e-04   2.22913844e-04  -3.36617054e-03\n",
      "   -8.77254205e-01  -4.08570175e-01   1.54145486e-02]\n",
      " [ -7.36289612e-02  -2.61563804e-01   9.43067566e-01  -2.14514264e-03\n",
      "    1.19104298e-02  -1.68808905e-03   1.42294158e-04  -1.17203197e-04\n",
      "   -1.45895558e-01   1.23868963e-01  -2.88797236e-03]\n",
      " [  1.37617196e-02  -2.11129619e-01   1.16514121e-01  -5.30670319e-04\n",
      "   -1.05181628e-02  -1.36446528e-03   8.21179429e-04  -3.09221855e-04\n",
      "    3.58358431e-01  -9.01728510e-01  -3.27758247e-03]\n",
      " [ -1.74575775e-02  -9.10890084e-01  -3.04081497e-01   2.89763923e-03\n",
      "   -2.34615054e-02  -1.17406025e-03   3.85957239e-04  -1.23176271e-03\n",
      "   -2.68927937e-01   6.70756658e-02   1.12101920e-02]\n",
      " [  2.31513441e-03  -2.38717789e-02  -1.67445603e-02   8.92206499e-04\n",
      "    9.99462734e-01  -9.81109101e-05  -3.32812875e-05   4.14235255e-03\n",
      "    1.18483756e-02  -3.51543098e-03   6.92344110e-03]\n",
      " [  7.48312160e-04   3.08204153e-04   2.55232500e-04   3.49846801e-04\n",
      "    4.12943179e-03  -6.96565372e-06   4.16951216e-06  -9.99984215e-01\n",
      "    3.17948604e-03   1.53436134e-03  -1.10029138e-03]]\n"
     ]
    }
   ],
   "source": [
    "pca = PCA(n_components = 11)\n",
    "pca.fit(X_11d)\n",
    "print pca.components_"
   ]
  },
  {
   "cell_type": "markdown",
   "metadata": {},
   "source": [
    "### Task 7\n",
    "The reconstruction error for 4-dimension PCA is 1345.4755741\n",
    "\n",
    "It's just the rest of variance we lost when we do 4-dimension PCA. We see the total variance with 4 components is 3674473.1413. Sum of them is just the total variance in 11 dimensions in Task 5."
   ]
  },
  {
   "cell_type": "code",
   "execution_count": 11,
   "metadata": {
    "collapsed": false
   },
   "outputs": [
    {
     "name": "stdout",
     "output_type": "stream",
     "text": [
      "The reconstruction error for 4-dimension PCA is  1345.4755741\n"
     ]
    }
   ],
   "source": [
    "print \"The reconstruction error for 4-dimension PCA is \", numpy.sum(pca.explained_variance_[4:])*len(X_train)"
   ]
  },
  {
   "cell_type": "code",
   "execution_count": 12,
   "metadata": {
    "collapsed": false
   },
   "outputs": [
    {
     "name": "stdout",
     "output_type": "stream",
     "text": [
      "3674473.1413\n"
     ]
    }
   ],
   "source": [
    "pca = PCA(n_components = 4)\n",
    "pca.fit(X_11d)\n",
    "print numpy.sum(pca.explained_variance_[:])*len(X_train)\n",
    "transform = pca.components_"
   ]
  },
  {
   "cell_type": "markdown",
   "metadata": {},
   "source": [
    "### Task 8\n",
    "The MSE goes down as more and more dimensions are used\n",
    "\n",
    "The MSE change on the train set is:  [0.86384243973592434, 0.84466943185576071, 0.82751611558520088, 0.69738327887529172, 0.68550155987923889, 0.6608539889873275, 0.65919451154521747, 0.65848602461025896, 0.63685661427823248, 0.63468781914815453, 0.61721175854356825]\n",
    "\n",
    "THe MSE change on the test set is:  [0.66348348996669526, 0.6555874931669381, 0.67835915193077811, 0.59909062198092344, 0.62319815648296806, 0.60387838007105377, 0.5972799592490402, 0.59450622441189893, 0.55550509614578347, 0.55620192020640657, 0.56887177280462198]"
   ]
  },
  {
   "cell_type": "code",
   "execution_count": 27,
   "metadata": {
    "collapsed": true
   },
   "outputs": [],
   "source": [
    "y_train_pca = [l[-1] for l in lines[:int(len(lines)/3)]]\n",
    "y_test_pca = [l[-1] for l in lines[int(2*len(lines)/3):]]"
   ]
  },
  {
   "cell_type": "code",
   "execution_count": 28,
   "metadata": {
    "collapsed": false
   },
   "outputs": [],
   "source": [
    "MSE_train = []\n",
    "MSE_test = []\n",
    "for i in range(1,12):\n",
    "    pca = PCA(n_components = i)\n",
    "    X_deduced = numpy.concatenate((numpy.ones((len(X_train),1)), pca.fit_transform(X_11d)), axis=1)\n",
    "    result = numpy.linalg.lstsq(X_deduced, numpy.array(y_train_pca))\n",
    "    MSE_train.append(result[1][0] / len(y_train_pca))\n",
    "    test_deduced = numpy.concatenate((numpy.ones((len(X_test),1)), pca.transform([x[1:] for x in X_test])), axis=1)\n",
    "    MSE_test.append(mean_squared_error(numpy.dot(test_deduced, result[0]), y_test_pca))"
   ]
  },
  {
   "cell_type": "code",
   "execution_count": 29,
   "metadata": {
    "collapsed": false
   },
   "outputs": [
    {
     "data": {
      "image/png": "[encoded data removed]",
      "text/plain": [
       "<matplotlib.figure.Figure at 0xa98fba8>"
      ]
     },
     "metadata": {},
     "output_type": "display_data"
    }
   ],
   "source": [
    "dim = numpy.arange(1,12,1)\n",
    "train, = plt.plot(dim, MSE_train)\n",
    "test, = plt.plot(dim, MSE_test)\n",
    "plt.xlabel('dimensions')\n",
    "plt.ylabel('MSE')\n",
    "plt.legend([train, test], [\"train set\", \"test set\"])\n",
    "plt.show()"
   ]
  },
  {
   "cell_type": "code",
   "execution_count": 30,
   "metadata": {
    "collapsed": false
   },
   "outputs": [
    {
     "name": "stdout",
     "output_type": "stream",
     "text": [
      "The MSE change on the train set is:  [0.86384243973592434, 0.84466943185576071, 0.82751611558520088, 0.69738327887529172, 0.68550155987923889, 0.6608539889873275, 0.65919451154521747, 0.65848602461025896, 0.63685661427823248, 0.63468781914815453, 0.61721175854356825]\n",
      "THe MSE change on the test set is:  [0.66348348996669526, 0.6555874931669381, 0.67835915193077811, 0.59909062198092344, 0.62319815648296806, 0.60387838007105377, 0.5972799592490402, 0.59450622441189893, 0.55550509614578347, 0.55620192020640657, 0.56887177280462198]\n"
     ]
    }
   ],
   "source": [
    "print \"The MSE change on the train set is: \", MSE_train\n",
    "print \"THe MSE change on the test set is: \", MSE_test"
   ]
  },
  {
   "cell_type": "code",
   "execution_count": null,
   "metadata": {
    "collapsed": true
   },
   "outputs": [],
   "source": []
  }
 ],
 "metadata": {
  "anaconda-cloud": {},
  "kernelspec": {
   "display_name": "Python [default]",
   "language": "python",
   "name": "python2"
  },
  "language_info": {
   "codemirror_mode": {
    "name": "ipython",
    "version": 2
   },
   "file_extension": ".py",
   "mimetype": "text/x-python",
   "name": "python",
   "nbconvert_exporter": "python",
   "pygments_lexer": "ipython2",
   "version": "2.7.12"
  }
 },
 "nbformat": 4,
 "nbformat_minor": 1
}
