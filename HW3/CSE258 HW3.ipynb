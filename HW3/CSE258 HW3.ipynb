{
 "cells": [
  {
   "cell_type": "code",
   "execution_count": 1,
   "metadata": {
    "collapsed": true
   },
   "outputs": [],
   "source": [
    "import gzip\n",
    "import numpy as np\n",
    "from sklearn.metrics import mean_absolute_error\n",
    "from sklearn.metrics import mean_squared_error"
   ]
  },
  {
   "cell_type": "code",
   "execution_count": 2,
   "metadata": {
    "collapsed": true
   },
   "outputs": [],
   "source": [
    "def parse(path):\n",
    "    g = gzip.open(path, 'rb')\n",
    "    for l in g:\n",
    "        yield eval(l)\n",
    "\n",
    "def readJson(path):\n",
    "    i = 0\n",
    "    df = {}\n",
    "    for d in parse(path):\n",
    "        df[i] = d\n",
    "        i += 1\n",
    "    return df\n",
    "\n",
    "df = readJson('assignment1/train.json.gz')"
   ]
  },
  {
   "cell_type": "code",
   "execution_count": 3,
   "metadata": {
    "collapsed": true
   },
   "outputs": [],
   "source": [
    "Data_train = [df[x] for x in range(0,len(df)/2)]\n",
    "Data_valid = [df[x] for x in range(len(df)/2,len(df))]"
   ]
  },
  {
   "cell_type": "markdown",
   "metadata": {},
   "source": [
    "### Task 1\n",
    "\n",
    "The value of alpha is : 0.783737364232"
   ]
  },
  {
   "cell_type": "code",
   "execution_count": 4,
   "metadata": {
    "collapsed": false
   },
   "outputs": [
    {
     "name": "stdout",
     "output_type": "stream",
     "text": [
      "The value of alpha is : 0.783737364232\n"
     ]
    }
   ],
   "source": [
    "division = [x['helpful']['nHelpful']*1.0 / x['helpful']['outOf'] for x in Data_train if x['helpful']['outOf'] != 0]\n",
    "alpha = sum(division) / len(division)\n",
    "print 'The value of alpha is : ' + str(alpha)"
   ]
  },
  {
   "cell_type": "markdown",
   "metadata": {},
   "source": [
    "### Task 2\n",
    "\n",
    "The Mean Absolute Error is : 0.258702157422"
   ]
  },
  {
   "cell_type": "code",
   "execution_count": 5,
   "metadata": {
    "collapsed": false
   },
   "outputs": [
    {
     "name": "stdout",
     "output_type": "stream",
     "text": [
      "The Mean Absolute Error is : 0.258702157422\n"
     ]
    }
   ],
   "source": [
    "prediction2 = [x['helpful']['outOf'] * alpha for x in Data_valid]\n",
    "y_valid = [x['helpful']['nHelpful'] for x in Data_valid]\n",
    "MAE2 = mean_absolute_error(prediction2, y_valid)\n",
    "print 'The Mean Absolute Error is : ' + str(MAE2)"
   ]
  },
  {
   "cell_type": "markdown",
   "metadata": {},
   "source": [
    "### Task 3\n",
    "\n",
    "The fitted parameters are: [  5.62218966e-01   2.11835412e-04   5.07029148e-02]\n",
    "\n",
    "The Mean Absolute Error is: 0.240245808704"
   ]
  },
  {
   "cell_type": "code",
   "execution_count": 6,
   "metadata": {
    "collapsed": false
   },
   "outputs": [
    {
     "name": "stdout",
     "output_type": "stream",
     "text": [
      "The fitted parameters are: [  5.62218966e-01   2.11835412e-04   5.07029148e-02]\n"
     ]
    }
   ],
   "source": [
    "def feat(data):\n",
    "    feat = [1]\n",
    "    feat.append(len(data['reviewText'].split( )))\n",
    "    feat.append(data['rating'])\n",
    "    return feat\n",
    "x3_train = [feat(x) for x in Data_train if x['helpful']['outOf'] != 0]\n",
    "\n",
    "result3 = np.linalg.lstsq(x3_train, division)\n",
    "theta3 = result3[0]\n",
    "print 'The fitted parameters are: ' + str(theta3)"
   ]
  },
  {
   "cell_type": "code",
   "execution_count": 7,
   "metadata": {
    "collapsed": false
   },
   "outputs": [
    {
     "name": "stdout",
     "output_type": "stream",
     "text": [
      "The Mean Absolute Error is: 0.240245808704\n"
     ]
    }
   ],
   "source": [
    "x3_valid = [feat(x) for x in Data_valid]\n",
    "prediction3 = np.dot(np.array(x3_valid), theta3) * np.array([x['helpful']['outOf'] for x in Data_valid])\n",
    "MAE3 = mean_absolute_error(prediction3, y_valid)\n",
    "print 'The Mean Absolute Error is: ' + str(MAE3)"
   ]
  },
  {
   "cell_type": "markdown",
   "metadata": {},
   "source": [
    "### Task 4\n",
    "\t\n",
    "My user name is : mud G Jonh"
   ]
  },
  {
   "cell_type": "code",
   "execution_count": 8,
   "metadata": {
    "collapsed": true
   },
   "outputs": [],
   "source": [
    "df2 = readJson('assignment1/test_Helpful.json.gz')\n",
    "Data_test = [df2[x] for x in range(0,len(df2))]"
   ]
  },
  {
   "cell_type": "code",
   "execution_count": 9,
   "metadata": {
    "collapsed": false
   },
   "outputs": [],
   "source": [
    "x4_test = [feat(x) for x in Data_test]\n",
    "pred_rate = np.dot(np.array(x4_test), theta3)"
   ]
  },
  {
   "cell_type": "code",
   "execution_count": 10,
   "metadata": {
    "collapsed": false
   },
   "outputs": [],
   "source": [
    "index = 0\n",
    "predictions = open(\"assignment1/predictions_Helpful.txt\", 'w')\n",
    "for l in open(\"assignment1/pairs_Helpful.txt\"):\n",
    "    if l.startswith(\"userID\"):\n",
    "        #header\n",
    "        predictions.write(l)\n",
    "        continue\n",
    "    u,i,outOf = l.strip().split('-')\n",
    "    outOf = int(outOf)\n",
    "    predictions.write(u + '-' + i + '-' + str(outOf) + ',' + str(outOf*pred_rate[index]) + '\\n')\n",
    "    index += 1\n",
    "\n",
    "predictions.close()"
   ]
  },
  {
   "cell_type": "markdown",
   "metadata": {},
   "source": [
    "### Task 5\n",
    "\n",
    "The value of alpha is: 4.23198\n",
    "\n",
    "The Mean Squared Error in validation set is: 1.2264713284"
   ]
  },
  {
   "cell_type": "code",
   "execution_count": 11,
   "metadata": {
    "collapsed": false
   },
   "outputs": [
    {
     "name": "stdout",
     "output_type": "stream",
     "text": [
      "The value of alpha is: 4.23198\n"
     ]
    }
   ],
   "source": [
    "rating = [x['rating'] for x in Data_train]\n",
    "alpha2 = sum(rating) / len(rating)\n",
    "print 'The value of alpha is: ' + str(alpha2)"
   ]
  },
  {
   "cell_type": "code",
   "execution_count": 12,
   "metadata": {
    "collapsed": false
   },
   "outputs": [
    {
     "name": "stdout",
     "output_type": "stream",
     "text": [
      "The Mean Squared Error is: 1.2264713284\n"
     ]
    }
   ],
   "source": [
    "MSE5 = mean_squared_error([alpha2] * len(Data_valid), [x['rating'] for x in Data_valid])\n",
    "print 'The Mean Squared Error is: ' + str(MSE5)"
   ]
  },
  {
   "cell_type": "markdown",
   "metadata": {},
   "source": [
    "### Task 6\n",
    "\n",
    "The MSE on the validation set is: 1.2815276734"
   ]
  },
  {
   "cell_type": "code",
   "execution_count": 13,
   "metadata": {
    "collapsed": true
   },
   "outputs": [],
   "source": [
    "rating_valid = [x['rating'] for x in Data_valid]"
   ]
  },
  {
   "cell_type": "code",
   "execution_count": 14,
   "metadata": {
    "collapsed": false
   },
   "outputs": [],
   "source": [
    "def regression (lmd):\n",
    "    \n",
    "    I_u = {} # number of items each user bought\n",
    "    U_i = {} # nuber of buyer of each item\n",
    "    for x in Data_train:\n",
    "        if x['reviewerID'] not in I_u:\n",
    "            I_u[x['reviewerID']] = 1\n",
    "        else: \n",
    "            I_u[x['reviewerID']] += 1\n",
    "        if x['itemID'] not in U_i:\n",
    "            U_i[x['itemID']] = 1\n",
    "        else:\n",
    "            U_i[x['itemID']] += 1\n",
    "#     initialize\n",
    "    a = 3\n",
    "    beta_u = {}\n",
    "    for x in I_u:\n",
    "        beta_u[x] = 1\n",
    "    beta_i = {}\n",
    "    for x in U_i:\n",
    "        beta_i[x] = 1\n",
    "\n",
    "    count = 0\n",
    "    MSE_list = []\n",
    "    a_list = []\n",
    "    beta_u_list = []\n",
    "    beta_i_list = []\n",
    "    while count < 5:\n",
    "        a = sum([x['rating'] - beta_u[x['reviewerID']] - beta_i[x['itemID']] for x in Data_train]) / len(Data_train)\n",
    "        a_list.append(a)\n",
    "        for x in I_u:\n",
    "            beta_u[x] = 0\n",
    "        for x in Data_train: \n",
    "            beta_u[x['reviewerID']] += (x['rating'] - a - beta_i[x['itemID']]) / (lmd + I_u[x['reviewerID']])\n",
    "        beta_u_list.append(beta_u)\n",
    "        for x in U_i:\n",
    "            beta_i[x] = 0\n",
    "        for x in Data_train:\n",
    "            beta_i[x['itemID']] += (x['rating'] - a - beta_u[x['reviewerID']]) / (lmd + U_i[x['itemID']])\n",
    "        beta_i_list.append(beta_i)\n",
    "        \n",
    "        pred_valid = []\n",
    "        for x in Data_valid:\n",
    "            r = a\n",
    "            if (x['reviewerID'] in I_u):\n",
    "                r += beta_u[x['reviewerID']]\n",
    "            if (x['itemID'] in U_i):\n",
    "                r += beta_i[x['itemID']]\n",
    "            pred_valid.append(r)\n",
    "        MSE = mean_squared_error(pred_valid, rating_valid)\n",
    "        MSE_list.append(MSE)\n",
    "        if len(MSE_list) > 1:\n",
    "            if MSE >= MSE_list[-2]:\n",
    "                count += 1\n",
    "            else:\n",
    "                count = 0\n",
    "    return MSE_list, a_list, beta_u_list, beta_i_list"
   ]
  },
  {
   "cell_type": "code",
   "execution_count": 15,
   "metadata": {
    "collapsed": false
   },
   "outputs": [
    {
     "name": "stdout",
     "output_type": "stream",
     "text": [
      "The MSE on the validation set is: 1.2815276734\n"
     ]
    }
   ],
   "source": [
    "MSE_list, a_list, beta_u_list, beta_i_list = regression(1)\n",
    "print 'The MSE on the validation set is: ' + str(MSE_list[-6])"
   ]
  },
  {
   "cell_type": "markdown",
   "metadata": {},
   "source": [
    "### Task 7\n",
    "\n",
    "The user ID U816486110 has the largest value of beta: 1.51355433808\n",
    "\n",
    "The user ID U052814411 has the smallest value of beta: -2.51275725845\n",
    "\n",
    "The item ID I558325415 has the largest value of beta: 1.25102777231\n",
    "\n",
    "The item ID I071368828 has the smallest value of beta: -2.36805972968"
   ]
  },
  {
   "cell_type": "code",
   "execution_count": 16,
   "metadata": {
    "collapsed": false
   },
   "outputs": [
    {
     "name": "stdout",
     "output_type": "stream",
     "text": [
      "The user ID U816486110 has the largest value of beta: 1.51355433808\n",
      "The user ID U052814411 has the smallest value of beta: -2.51275725845\n",
      "The item ID I558325415 has the largest value of beta: 1.25102777231\n",
      "The item ID I071368828 has the smallest value of beta: -2.36805972968\n"
     ]
    }
   ],
   "source": [
    "user_sorted = list(sorted(beta_u_list[-6], key = lambda x : beta_u_list[-6][x], reverse = False))\n",
    "item_sorted = list(sorted(beta_i_list[-6], key = lambda x : beta_i_list[-6][x], reverse = False))\n",
    "print 'The user ID ' + str(user_sorted[-1]) + ' has the largest value of beta: ' + str(beta_u_list[-6][user_sorted[-1]])\n",
    "print 'The user ID ' + str(user_sorted[0]) + ' has the smallest value of beta: ' + str(beta_u_list[-6][user_sorted[0]])\n",
    "print 'The item ID ' + str(item_sorted[-1]) + ' has the largest value of beta: ' + str(beta_i_list[-6][item_sorted[-1]])\n",
    "print 'The item ID ' + str(item_sorted[0]) + ' has the smallest value of beta: ' + str(beta_i_list[-6][item_sorted[0]])"
   ]
  },
  {
   "cell_type": "markdown",
   "metadata": {},
   "source": [
    "### Task 8\n",
    "\n",
    "I have a minimum MSE = 1.13959921647 with $\\lambda = 7$ "
   ]
  },
  {
   "cell_type": "code",
   "execution_count": 17,
   "metadata": {
    "collapsed": false,
    "scrolled": true
   },
   "outputs": [
    {
     "name": "stdout",
     "output_type": "stream",
     "text": [
      "The MSE with lambda = 0.01 is: 1.70419100323\n",
      "The MSE with lambda = 0.1 is: 1.64228706141\n",
      "The MSE with lambda = 1 is: 1.2815276734\n",
      "The MSE with lambda = 10 is: 1.14374550024\n",
      "The MSE with lambda = 100 is: 1.20329459617\n"
     ]
    }
   ],
   "source": [
    "lmd = [0.01, 0.1, 1, 10, 100]\n",
    "for x in lmd:\n",
    "    result = regression(x)\n",
    "    print 'The MSE with lambda = ' + str(x) + ' is: ' + str(result[0][-6])"
   ]
  },
  {
   "cell_type": "code",
   "execution_count": 18,
   "metadata": {
    "collapsed": false
   },
   "outputs": [
    {
     "name": "stdout",
     "output_type": "stream",
     "text": [
      "The MSE with lambda = 1 is: 1.2815276734\n",
      "The MSE with lambda = 2 is: 1.19019963635\n",
      "The MSE with lambda = 3 is: 1.15934870657\n",
      "The MSE with lambda = 4 is: 1.14668337568\n",
      "The MSE with lambda = 5 is: 1.14140518773\n",
      "The MSE with lambda = 6 is: 1.13960918671\n",
      "The MSE with lambda = 7 is: 1.13959783101\n",
      "The MSE with lambda = 8 is: 1.14054328308\n",
      "The MSE with lambda = 9 is: 1.1420066437\n",
      "The MSE with lambda = 10 is: 1.14374550024\n",
      "The MSE with lambda = 11 is: 1.14561826509\n",
      "The MSE with lambda = 12 is: 1.14754102817\n",
      "The MSE with lambda = 13 is: 1.14946350106\n",
      "The MSE with lambda = 14 is: 1.15135556168\n"
     ]
    }
   ],
   "source": [
    "for x in range(1,15):\n",
    "    result = regression(x)\n",
    "    print 'The MSE with lambda = ' + str(x) + ' is: ' + str(result[0][-6])"
   ]
  },
  {
   "cell_type": "code",
   "execution_count": 19,
   "metadata": {
    "collapsed": true
   },
   "outputs": [],
   "source": [
    "MSE_list8, a_list8, beta_u_list8, beta_i_list8 = regression(7)"
   ]
  },
  {
   "cell_type": "code",
   "execution_count": 20,
   "metadata": {
    "collapsed": true
   },
   "outputs": [],
   "source": [
    "predictions = open(\"assignment1/predictions_Rating.txt\", 'w')\n",
    "for l in open(\"assignment1/pairs_Rating.txt\"):\n",
    "    if l.startswith(\"userID\"):\n",
    "        #header\n",
    "        predictions.write(l)\n",
    "        continue\n",
    "    u,i = l.strip().split('-')\n",
    "    r = a_list8[-6]\n",
    "    if u in beta_u_list8[-6]:\n",
    "        r += beta_u_list8[-6][u]\n",
    "    if i in beta_i_list8[-6]:\n",
    "        r += beta_i_list8[-6][i]\n",
    "    predictions.write(u + '-' + i + ',' + str(r) + '\\n')\n",
    "\n",
    "predictions.close()"
   ]
  }
 ],
 "metadata": {
  "anaconda-cloud": {},
  "kernelspec": {
   "display_name": "Python [default]",
   "language": "python",
   "name": "python2"
  },
  "language_info": {
   "codemirror_mode": {
    "name": "ipython",
    "version": 2
   },
   "file_extension": ".py",
   "mimetype": "text/x-python",
   "name": "python",
   "nbconvert_exporter": "python",
   "pygments_lexer": "ipython2",
   "version": "2.7.12"
  }
 },
 "nbformat": 4,
 "nbformat_minor": 1
}
